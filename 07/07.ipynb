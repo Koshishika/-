{
 "cells": [
  {
   "cell_type": "markdown",
   "id": "a4d0ce5e-6fc8-4be1-9496-a1facaa90de0",
   "metadata": {},
   "source": [
    "## **第 7 回　ニュースデータ**\n",
    "---\n",
    "---"
   ]
  },
  {
   "cell_type": "markdown",
   "id": "536b84dc-254d-46c2-983c-0c956734594d",
   "metadata": {},
   "source": [
    "#### **課題**\n",
    "1. data/NYT_2023.xlsx は、New York Times の API を使って取得したデータです。pandas の DataFrame で読み込んで、df という名前の DataFrame を作って下さい。ただし、pub_date が DataFrame の index になるように読込んで、index の型が DatetimeIndex となるようにすること。\n",
    "\n",
    "解答例\n",
    "\n",
    "<img src=\"figs/1.jpg\" width=\"1000px\">\n",
    "\n",
    "---\n",
    "2. df から、section_name が World のときに、columns が abstract と keywords の箇所を抜き出して、df_w という DataFrame を作って下さい。\n",
    "\n",
    "解答例\n",
    "\n",
    "<img src=\"figs/2.jpg\" width=\"800px\">\n",
    "\n",
    "---\n",
    "3. df_w の abstract を使って、word cloud を描いて下さい。\n",
    "\n",
    "解答例\n",
    "\n",
    "<img src=\"figs/3.jpg\" width=\"600px\">\n",
    "\n",
    "---\n",
    "4. ニュースをテキストマイニングするときに有用な解析方法を調べて下さい。\n",
    "\n",
    "解答例：省略\n",
    "\n",
    "---\n",
    "5. df_w の abstract のそれぞれを感情分析して、df_w に sentiment という名前の column を追加して下さい。\n",
    "\n",
    "解答例：\n",
    "\n",
    "<img src=\"figs/5.jpg\" width=\"1000px\">\n",
    "\n",
    "---\n",
    "6. df_w の sentiment をヒストグラムでも可視化して下さい。また。時系列変化も可視化して下さい。\n",
    "\n",
    "解答例\n",
    "\n",
    "<img src=\"figs/6_a.jpg\" width=\"1000px\">\n",
    "\n",
    "<img src=\"figs/6_b.jpg\" width=\"1000px\">\n",
    "\n",
    "---\n",
    "7. df_w の abstract を使って、トピックを抽出して下さい。\n",
    "\n",
    "解答例\n",
    "\n",
    "<img src=\"figs/7.jpg\" width=\"1000px\">\n",
    "\n",
    "---\n",
    "---"
   ]
  },
  {
   "cell_type": "code",
   "execution_count": null,
   "id": "02232d1f-a2b4-4eea-bef2-69608c5375d0",
   "metadata": {},
   "outputs": [],
   "source": []
  }
 ],
 "metadata": {
  "kernelspec": {
   "display_name": "Python 3.11.5 ('.venv': poetry)",
   "language": "python",
   "name": "python3"
  },
  "language_info": {
   "codemirror_mode": {
    "name": "ipython",
    "version": 3
   },
   "file_extension": ".py",
   "mimetype": "text/x-python",
   "name": "python",
   "nbconvert_exporter": "python",
   "pygments_lexer": "ipython3",
   "version": "3.11.5"
  },
  "vscode": {
   "interpreter": {
    "hash": "341da08e999077c3541ec3fb91ddd1bfab6477091d7e281aa1f2989f38718526"
   }
  }
 },
 "nbformat": 4,
 "nbformat_minor": 5
}
