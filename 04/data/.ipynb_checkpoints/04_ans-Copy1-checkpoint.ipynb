{
 "cells": [
  {
   "cell_type": "markdown",
   "id": "a4d0ce5e-6fc8-4be1-9496-a1facaa90de0",
   "metadata": {},
   "source": [
    "## 第 4 回　形態素解析と自然言語処理\n",
    "---\n",
    "---"
   ]
  },
  {
   "cell_type": "markdown",
   "id": "0a5447e2-8951-48b6-a3f4-23a636a490dd",
   "metadata": {},
   "source": [
    "#### 形態素解析（日本語）"
   ]
  },
  {
   "cell_type": "markdown",
   "id": "cb9c1891-402d-4a4a-9037-b3074875ebf6",
   "metadata": {},
   "source": [
    "#### 形態素解析（英語）"
   ]
  },
  {
   "cell_type": "markdown",
   "id": "c647fec1-b372-4f15-b2e3-da2ee5a89b77",
   "metadata": {},
   "source": [
    "#### 言語モデル（昔）"
   ]
  },
  {
   "cell_type": "markdown",
   "id": "4ceaa2f6-eccc-4fdc-b57a-2b5011e52175",
   "metadata": {},
   "source": [
    "#### 分散表現（英語）\n",
    "- Word2Vec\n",
    "- Glove (Global Vector for Word Representation)\n",
    "- FastText\n",
    "- BERT や Transformer ベースのモデル"
   ]
  },
  {
   "cell_type": "markdown",
   "id": "d656d5bf-89be-40dd-a244-dff0eaa568c8",
   "metadata": {},
   "source": [
    "#### RNN"
   ]
  },
  {
   "cell_type": "markdown",
   "id": "6efa24d6-a7d6-4643-8258-5ca82eec508d",
   "metadata": {},
   "source": [
    "#### LSTM"
   ]
  },
  {
   "cell_type": "markdown",
   "id": "42431186-3b42-4730-bcc5-b3eb9163ec05",
   "metadata": {},
   "source": [
    "#### 言語モデル（今：ニューラルネットワーク）"
   ]
  },
  {
   "cell_type": "markdown",
   "id": "33958fe7-78cc-49c2-94fa-8287d2d5cc4d",
   "metadata": {},
   "source": [
    "#### Transformer"
   ]
  },
  {
   "cell_type": "code",
   "execution_count": null,
   "id": "871fbbcd-7c72-4efc-8460-3bf868854fff",
   "metadata": {},
   "outputs": [],
   "source": []
  }
 ],
 "metadata": {
  "kernelspec": {
   "display_name": "Python 3 (ipykernel)",
   "language": "python",
   "name": "python3"
  },
  "language_info": {
   "codemirror_mode": {
    "name": "ipython",
    "version": 3
   },
   "file_extension": ".py",
   "mimetype": "text/x-python",
   "name": "python",
   "nbconvert_exporter": "python",
   "pygments_lexer": "ipython3",
   "version": "3.9.16"
  }
 },
 "nbformat": 4,
 "nbformat_minor": 5
}
