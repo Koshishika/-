{
 "cells": [
  {
   "cell_type": "markdown",
   "id": "ca0ac207-ef68-4d6c-8bff-7804d627c83d",
   "metadata": {},
   "source": [
    "## 第 12 回　遺伝子データ解析\n",
    "\n",
    "### 参考文献：先進ゲノム解析研究推進プラットフォーム (編集)、独習 Python バイオ情報解析、羊土社\n",
    "---\n",
    "---\n",
    "### 目的：ヒト胚性幹細胞を胚様体とした分化過程のシングルセル RNA-Seq 解析データから論文用の図を作成する。\n",
    "\n",
    "K.R. Moon et al., Visualizing structure and transitions in high-dimensional biological data, Nature Biotechnology, Vol. 37, 1482-1492, 2019.\n",
    "\n",
    "---\n",
    "---\n",
    "## シングルセル解析 2\n",
    "### 次元削減\n",
    "---"
   ]
  },
  {
   "cell_type": "markdown",
   "id": "eb2f9f0b-4bfd-478a-a563-a9fb748b1900",
   "metadata": {},
   "source": [
    "### 解析に必要なライブラリのインポート"
   ]
  },
  {
   "cell_type": "code",
   "execution_count": null,
   "id": "b5dfd936-b707-4f6e-ae0e-b126505a145d",
   "metadata": {
    "tags": []
   },
   "outputs": [],
   "source": [
    "import matplotlib.pyplot as plt"
   ]
  },
  {
   "cell_type": "markdown",
   "id": "99ea11bc-ec1a-44dd-b305-2574ad3df8cd",
   "metadata": {},
   "source": [
    "---\n",
    "### S 字の生成と可視化"
   ]
  },
  {
   "cell_type": "markdown",
   "id": "748591c0-b046-4bd0-b516-3ab060811ed7",
   "metadata": {},
   "source": [
    "#### sklearn を使って S 字データを生成して、matplotlib を使って 3 次元空間で可視化"
   ]
  },
  {
   "cell_type": "code",
   "execution_count": null,
   "id": "ab113a99-726d-479f-b47c-05c06d655880",
   "metadata": {
    "tags": []
   },
   "outputs": [],
   "source": [
    "from sklearn.datasets import make_s_curve\n",
    "from mpl_toolkits.mplot3d import Axes3D\n",
    "\n",
    "# S 字データの生成\n",
    "X, t = make_s_curve(1000, random_state=0)\n",
    "\n",
    "# 3Dプロットの作成\n",
    "fig = plt.figure(figsize=(12, 7))  # プロットのサイズ設定\n",
    "ax = fig.add_subplot(111, projection='3d')\n",
    "\n",
    "# データポイントのプロット（色はtに基づく、rainbowカラーマップを使用）\n",
    "sc = ax.scatter(X[:, 0], X[:, 1], X[:, 2], c=t, cmap=\"Spectral\")\n",
    "\n",
    "# 軸のアスペクト比を設定（Z軸を長くする）\n",
    "ax.set_box_aspect((1, 1, 2))  # X, Y, Z軸の比率\n",
    "\n",
    "# ラベルの設定\n",
    "ax.set_xlabel('X Label')\n",
    "ax.set_ylabel('Y Label')\n",
    "ax.set_zlabel('Z Label')\n",
    "ax.set_title('3D S-Curve with Extended Z-Axis')\n",
    "\n",
    "# プロットの表示\n",
    "plt.show()"
   ]
  },
  {
   "cell_type": "markdown",
   "id": "01123fcb-32f4-4d45-8660-1c8c6a7d715a",
   "metadata": {},
   "source": [
    "---\n",
    "### 主成分分析（principal component analysis; PCA）"
   ]
  },
  {
   "cell_type": "markdown",
   "id": "a33c1667-bbc4-4f46-b537-6ed417b59d6d",
   "metadata": {},
   "source": [
    "**課題 1：** 主成分分析についてまとめて下さい。"
   ]
  },
  {
   "cell_type": "markdown",
   "id": "a6213bb1-a8bc-46c7-85be-2628d9601e9f",
   "metadata": {},
   "source": [
    "#### sklearn を用いて主成分分析"
   ]
  },
  {
   "cell_type": "markdown",
   "id": "27e15ee4-2053-43b5-81c7-ea22f1f3909f",
   "metadata": {},
   "source": [
    "**課題 2：** S 字データに対して PCA を実行した結果をグラフで可視化して下さい。\n",
    "\n",
    "解答例\n",
    "\n",
    "<img src=\"figs/pca.jpg\" width=\"400px\">"
   ]
  },
  {
   "cell_type": "markdown",
   "id": "5b966d19-b291-44ae-a4ff-1bd292a50f72",
   "metadata": {},
   "source": [
    "---\n",
    "### 多次元尺度構成法（multidimensional scaling; MDS）"
   ]
  },
  {
   "cell_type": "markdown",
   "id": "58a70399-ae43-4d70-9cfa-233e51549460",
   "metadata": {},
   "source": [
    "**課題 3：** 多次元尺度構成法（multidimensional scaling; MDS）についてまとめて下さい。"
   ]
  },
  {
   "cell_type": "markdown",
   "id": "84bafc86-57d1-4ab9-8353-9785598d68a0",
   "metadata": {},
   "source": [
    "#### sklearn を用いて多次元尺度構成法"
   ]
  },
  {
   "cell_type": "markdown",
   "id": "650e8d45-eea8-43fa-a08e-bbc386afd9ea",
   "metadata": {},
   "source": [
    "**課題 4：** S 字データに対して MDS を実行した結果をグラフで可視化して下さい。\n",
    "\n",
    "解答例\n",
    "\n",
    "<img src=\"figs/mds.jpg\" width=\"400px\">"
   ]
  },
  {
   "cell_type": "markdown",
   "id": "35661765-7a45-4782-aaa9-cff51ee377e1",
   "metadata": {},
   "source": [
    "---\n",
    "### 確率的近傍埋め込み（stochastic neighbor embedding; SNE）"
   ]
  },
  {
   "cell_type": "markdown",
   "id": "d5026060-8405-46c8-bec5-f58f9a36f1a4",
   "metadata": {},
   "source": [
    "**課題 5：** 確率的近傍埋め込み（stochastic neighbor embedding; SNE）についてまとめて下さい。"
   ]
  },
  {
   "cell_type": "markdown",
   "id": "d30099d3-b706-4a59-be34-0e9752000feb",
   "metadata": {},
   "source": [
    "---\n",
    "### t-SNE（t-distributed stochastic neighbor embedding：t 分布型確率的近傍埋め込み）"
   ]
  },
  {
   "cell_type": "markdown",
   "id": "bcfba4e1-8634-4638-8399-09643ae88520",
   "metadata": {},
   "source": [
    "**課題 6：** t 分布型確率的近傍埋め込み(t-distributed stochastic neighbor embedding; t-SNE)についてまとめて下さい。"
   ]
  },
  {
   "cell_type": "markdown",
   "id": "f4bffc43-1e8b-44a5-bf5c-b51bb007221c",
   "metadata": {},
   "source": [
    "#### sklearn を用いて t-SNE"
   ]
  },
  {
   "cell_type": "markdown",
   "id": "dcefba8c-ab73-41fb-b90c-2c773c6ed5fe",
   "metadata": {},
   "source": [
    "**課題 7：** S 字データに対して t-SNE を実行した結果をグラフで可視化して下さい。\n",
    "\n",
    "解答例\n",
    "\n",
    "<img src=\"figs/tsne.jpg\" width=\"400px\">"
   ]
  },
  {
   "cell_type": "markdown",
   "id": "d29e8889-2ee8-4e2c-8d75-562a1de2962e",
   "metadata": {},
   "source": [
    "---\n",
    "### UMAP\n",
    "**課題 8：** 一様多様体近似と射影（Uniform Manifold Approximation and Projection; UMAP）についてまとめて下さい。"
   ]
  },
  {
   "cell_type": "markdown",
   "id": "f222efa9-4ac0-4d41-80a1-3c264d579802",
   "metadata": {},
   "source": [
    "#### sklearn を用いて UMAP"
   ]
  },
  {
   "cell_type": "markdown",
   "id": "8aa1a31d-d8ae-49ce-9700-90ef0aa8379b",
   "metadata": {},
   "source": [
    "**課題 9：** S 字データに対して UMAP を実行した結果をグラフで可視化して下さい。\n",
    "\n",
    "解答例\n",
    "\n",
    "<img src=\"figs/umap.jpg\" width=\"400px\">"
   ]
  },
  {
   "cell_type": "markdown",
   "id": "7611fef4-5ac6-40e8-9b07-e5af935f8e0e",
   "metadata": {},
   "source": [
    "---\n",
    "**課題 10：** 次元削減をする方法として他にどのようなものがあるか調べてまとめて下さい。また、グラフで可視化して下さい。\n",
    "\n",
    "解答例\n",
    "\n",
    "<img src=\"figs/seven.jpg\" width=\"1000px\">"
   ]
  },
  {
   "cell_type": "code",
   "execution_count": null,
   "id": "d0f35af2-cf30-47ca-9704-ea5d51695f4f",
   "metadata": {},
   "outputs": [],
   "source": []
  }
 ],
 "metadata": {
  "kernelspec": {
   "display_name": "Python 3 (ipykernel)",
   "language": "python",
   "name": "python3"
  },
  "language_info": {
   "codemirror_mode": {
    "name": "ipython",
    "version": 3
   },
   "file_extension": ".py",
   "mimetype": "text/x-python",
   "name": "python",
   "nbconvert_exporter": "python",
   "pygments_lexer": "ipython3",
   "version": "3.9.18"
  }
 },
 "nbformat": 4,
 "nbformat_minor": 5
}
